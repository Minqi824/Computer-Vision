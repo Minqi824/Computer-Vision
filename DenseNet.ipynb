{
  "nbformat": 4,
  "nbformat_minor": 0,
  "metadata": {
    "colab": {
      "name": "DenseNet",
      "provenance": [],
      "collapsed_sections": [],
      "mount_file_id": "1SFAM45WiSYGMIKtMCtnzYi-74s9lRWW4",
      "authorship_tag": "ABX9TyNLAsoqXQ8KqnC6evqPd1od",
      "include_colab_link": true
    },
    "kernelspec": {
      "name": "python3",
      "display_name": "Python 3"
    },
    "accelerator": "GPU",
    "widgets": {
      "application/vnd.jupyter.widget-state+json": {
        "2c28589b349d413b8ffb7c70f13c96d0": {
          "model_module": "@jupyter-widgets/controls",
          "model_name": "HBoxModel",
          "state": {
            "_view_name": "HBoxView",
            "_dom_classes": [],
            "_model_name": "HBoxModel",
            "_view_module": "@jupyter-widgets/controls",
            "_model_module_version": "1.5.0",
            "_view_count": null,
            "_view_module_version": "1.5.0",
            "box_style": "",
            "layout": "IPY_MODEL_ed932c5903114028bd9a9d531b31c138",
            "_model_module": "@jupyter-widgets/controls",
            "children": [
              "IPY_MODEL_2798eec8a55b41259d6d38731249769e",
              "IPY_MODEL_7a07b15ce2144e73b2372dfc57aabc99"
            ]
          }
        },
        "ed932c5903114028bd9a9d531b31c138": {
          "model_module": "@jupyter-widgets/base",
          "model_name": "LayoutModel",
          "state": {
            "_view_name": "LayoutView",
            "grid_template_rows": null,
            "right": null,
            "justify_content": null,
            "_view_module": "@jupyter-widgets/base",
            "overflow": null,
            "_model_module_version": "1.2.0",
            "_view_count": null,
            "flex_flow": null,
            "width": null,
            "min_width": null,
            "border": null,
            "align_items": null,
            "bottom": null,
            "_model_module": "@jupyter-widgets/base",
            "top": null,
            "grid_column": null,
            "overflow_y": null,
            "overflow_x": null,
            "grid_auto_flow": null,
            "grid_area": null,
            "grid_template_columns": null,
            "flex": null,
            "_model_name": "LayoutModel",
            "justify_items": null,
            "grid_row": null,
            "max_height": null,
            "align_content": null,
            "visibility": null,
            "align_self": null,
            "height": null,
            "min_height": null,
            "padding": null,
            "grid_auto_rows": null,
            "grid_gap": null,
            "max_width": null,
            "order": null,
            "_view_module_version": "1.2.0",
            "grid_template_areas": null,
            "object_position": null,
            "object_fit": null,
            "grid_auto_columns": null,
            "margin": null,
            "display": null,
            "left": null
          }
        },
        "2798eec8a55b41259d6d38731249769e": {
          "model_module": "@jupyter-widgets/controls",
          "model_name": "IntProgressModel",
          "state": {
            "_view_name": "ProgressView",
            "style": "IPY_MODEL_f7fff2ea06bf4f18856663ad1ee60959",
            "_dom_classes": [],
            "description": "",
            "_model_name": "IntProgressModel",
            "bar_style": "success",
            "max": 32342954,
            "_view_module": "@jupyter-widgets/controls",
            "_model_module_version": "1.5.0",
            "value": 32342954,
            "_view_count": null,
            "_view_module_version": "1.5.0",
            "orientation": "horizontal",
            "min": 0,
            "description_tooltip": null,
            "_model_module": "@jupyter-widgets/controls",
            "layout": "IPY_MODEL_0802d3020e2b423b905adf717b13cca7"
          }
        },
        "7a07b15ce2144e73b2372dfc57aabc99": {
          "model_module": "@jupyter-widgets/controls",
          "model_name": "HTMLModel",
          "state": {
            "_view_name": "HTMLView",
            "style": "IPY_MODEL_3d4bbd47b97941069e223191dec51ea3",
            "_dom_classes": [],
            "description": "",
            "_model_name": "HTMLModel",
            "placeholder": "​",
            "_view_module": "@jupyter-widgets/controls",
            "_model_module_version": "1.5.0",
            "value": "100% 30.8M/30.8M [00:00&lt;00:00, 47.4MB/s]",
            "_view_count": null,
            "_view_module_version": "1.5.0",
            "description_tooltip": null,
            "_model_module": "@jupyter-widgets/controls",
            "layout": "IPY_MODEL_00335c04d212416c910c6c8554cca119"
          }
        },
        "f7fff2ea06bf4f18856663ad1ee60959": {
          "model_module": "@jupyter-widgets/controls",
          "model_name": "ProgressStyleModel",
          "state": {
            "_view_name": "StyleView",
            "_model_name": "ProgressStyleModel",
            "description_width": "",
            "_view_module": "@jupyter-widgets/base",
            "_model_module_version": "1.5.0",
            "_view_count": null,
            "_view_module_version": "1.2.0",
            "bar_color": null,
            "_model_module": "@jupyter-widgets/controls"
          }
        },
        "0802d3020e2b423b905adf717b13cca7": {
          "model_module": "@jupyter-widgets/base",
          "model_name": "LayoutModel",
          "state": {
            "_view_name": "LayoutView",
            "grid_template_rows": null,
            "right": null,
            "justify_content": null,
            "_view_module": "@jupyter-widgets/base",
            "overflow": null,
            "_model_module_version": "1.2.0",
            "_view_count": null,
            "flex_flow": null,
            "width": null,
            "min_width": null,
            "border": null,
            "align_items": null,
            "bottom": null,
            "_model_module": "@jupyter-widgets/base",
            "top": null,
            "grid_column": null,
            "overflow_y": null,
            "overflow_x": null,
            "grid_auto_flow": null,
            "grid_area": null,
            "grid_template_columns": null,
            "flex": null,
            "_model_name": "LayoutModel",
            "justify_items": null,
            "grid_row": null,
            "max_height": null,
            "align_content": null,
            "visibility": null,
            "align_self": null,
            "height": null,
            "min_height": null,
            "padding": null,
            "grid_auto_rows": null,
            "grid_gap": null,
            "max_width": null,
            "order": null,
            "_view_module_version": "1.2.0",
            "grid_template_areas": null,
            "object_position": null,
            "object_fit": null,
            "grid_auto_columns": null,
            "margin": null,
            "display": null,
            "left": null
          }
        },
        "3d4bbd47b97941069e223191dec51ea3": {
          "model_module": "@jupyter-widgets/controls",
          "model_name": "DescriptionStyleModel",
          "state": {
            "_view_name": "StyleView",
            "_model_name": "DescriptionStyleModel",
            "description_width": "",
            "_view_module": "@jupyter-widgets/base",
            "_model_module_version": "1.5.0",
            "_view_count": null,
            "_view_module_version": "1.2.0",
            "_model_module": "@jupyter-widgets/controls"
          }
        },
        "00335c04d212416c910c6c8554cca119": {
          "model_module": "@jupyter-widgets/base",
          "model_name": "LayoutModel",
          "state": {
            "_view_name": "LayoutView",
            "grid_template_rows": null,
            "right": null,
            "justify_content": null,
            "_view_module": "@jupyter-widgets/base",
            "overflow": null,
            "_model_module_version": "1.2.0",
            "_view_count": null,
            "flex_flow": null,
            "width": null,
            "min_width": null,
            "border": null,
            "align_items": null,
            "bottom": null,
            "_model_module": "@jupyter-widgets/base",
            "top": null,
            "grid_column": null,
            "overflow_y": null,
            "overflow_x": null,
            "grid_auto_flow": null,
            "grid_area": null,
            "grid_template_columns": null,
            "flex": null,
            "_model_name": "LayoutModel",
            "justify_items": null,
            "grid_row": null,
            "max_height": null,
            "align_content": null,
            "visibility": null,
            "align_self": null,
            "height": null,
            "min_height": null,
            "padding": null,
            "grid_auto_rows": null,
            "grid_gap": null,
            "max_width": null,
            "order": null,
            "_view_module_version": "1.2.0",
            "grid_template_areas": null,
            "object_position": null,
            "object_fit": null,
            "grid_auto_columns": null,
            "margin": null,
            "display": null,
            "left": null
          }
        }
      }
    }
  },
  "cells": [
    {
      "cell_type": "markdown",
      "metadata": {
        "id": "view-in-github",
        "colab_type": "text"
      },
      "source": [
        "<a href=\"https://colab.research.google.com/github/jmq19950824/Machine-Learning-with-Python/blob/master/DenseNet.ipynb\" target=\"_parent\"><img src=\"https://colab.research.google.com/assets/colab-badge.svg\" alt=\"Open In Colab\"/></a>"
      ]
    },
    {
      "cell_type": "code",
      "metadata": {
        "id": "raruPwe3ZWAw",
        "colab_type": "code",
        "colab": {}
      },
      "source": [
        "import pandas as pd\n",
        "from glob import glob\n",
        "import os\n",
        "from shutil import copyfile\n",
        "from torch.utils.data import Dataset\n",
        "from PIL import Image\n",
        "import numpy as np\n",
        "from numpy.random import permutation\n",
        "import matplotlib.pyplot as plt\n",
        "\n",
        "from torchvision import transforms\n",
        "from torchvision.datasets import ImageFolder\n",
        "from torchvision.models import resnet18,resnet34\n",
        "from torchvision.models.inception import inception_v3\n",
        "from torchvision.models import densenet121\n",
        "from torch.utils.data import DataLoader\n",
        "from torch.autograd import Variable\n",
        "import torch\n",
        "import torch.nn as nn\n",
        "import torch.optim as optim\n",
        "import torch.nn.functional as F\n",
        "\n",
        "\n",
        "%matplotlib inline"
      ],
      "execution_count": 0,
      "outputs": []
    },
    {
      "cell_type": "markdown",
      "metadata": {
        "id": "TQr_-7bcXaPg",
        "colab_type": "text"
      },
      "source": [
        "GPU Environment"
      ]
    },
    {
      "cell_type": "code",
      "metadata": {
        "id": "R-HfSecKXYN-",
        "colab_type": "code",
        "outputId": "18795e8d-cfc5-4066-a97c-708ace03ae43",
        "colab": {
          "base_uri": "https://localhost:8080/",
          "height": 35
        }
      },
      "source": [
        "is_cuda=torch.cuda.is_available()\n",
        "is_cuda"
      ],
      "execution_count": 2,
      "outputs": [
        {
          "output_type": "execute_result",
          "data": {
            "text/plain": [
              "True"
            ]
          },
          "metadata": {
            "tags": []
          },
          "execution_count": 2
        }
      ]
    },
    {
      "cell_type": "markdown",
      "metadata": {
        "id": "BEkQ_NUSZCtn",
        "colab_type": "text"
      },
      "source": [
        "Original Data"
      ]
    },
    {
      "cell_type": "code",
      "metadata": {
        "id": "sVsqXIb_ZBBt",
        "colab_type": "code",
        "colab": {}
      },
      "source": [
        "data_transform=transforms.Compose([transforms.Resize((299,299)),\n",
        "                  transforms.ToTensor(),\n",
        "                  transforms.Normalize([0.485,0.456,0.406],[0.229,0.224,0.225])])"
      ],
      "execution_count": 0,
      "outputs": []
    },
    {
      "cell_type": "code",
      "metadata": {
        "id": "gpcNBJDhZFGP",
        "colab_type": "code",
        "colab": {}
      },
      "source": [
        "train_dataset=ImageFolder('/content/drive/My Drive/Book Codes/PyTorch深度学习/dogsandcats/minitrain',transform=data_transform)\n",
        "valid_dataset=ImageFolder('/content/drive/My Drive/Book Codes/PyTorch深度学习/dogsandcats/minivalid',transform=data_transform)\n",
        "\n",
        "train_dataloader=DataLoader(train_dataset,batch_size=32,shuffle=False,num_workers=8)\n",
        "valid_dataloader=DataLoader(valid_dataset,batch_size=32,shuffle=False,num_workers=8)"
      ],
      "execution_count": 0,
      "outputs": []
    },
    {
      "cell_type": "code",
      "metadata": {
        "id": "2_UndGtLZHDV",
        "colab_type": "code",
        "outputId": "32dd82cb-c35d-423c-db5e-d3ba41bdaeba",
        "colab": {
          "base_uri": "https://localhost:8080/",
          "height": 341
        }
      },
      "source": [
        "print(train_dataset)\n",
        "print(valid_dataset)"
      ],
      "execution_count": 5,
      "outputs": [
        {
          "output_type": "stream",
          "text": [
            "Dataset ImageFolder\n",
            "    Number of datapoints: 2000\n",
            "    Root location: /content/drive/My Drive/Book Codes/PyTorch深度学习/dogsandcats/minitrain\n",
            "    StandardTransform\n",
            "Transform: Compose(\n",
            "               Resize(size=(299, 299), interpolation=PIL.Image.BILINEAR)\n",
            "               ToTensor()\n",
            "               Normalize(mean=[0.485, 0.456, 0.406], std=[0.229, 0.224, 0.225])\n",
            "           )\n",
            "Dataset ImageFolder\n",
            "    Number of datapoints: 1000\n",
            "    Root location: /content/drive/My Drive/Book Codes/PyTorch深度学习/dogsandcats/minivalid\n",
            "    StandardTransform\n",
            "Transform: Compose(\n",
            "               Resize(size=(299, 299), interpolation=PIL.Image.BILINEAR)\n",
            "               ToTensor()\n",
            "               Normalize(mean=[0.485, 0.456, 0.406], std=[0.229, 0.224, 0.225])\n",
            "           )\n"
          ],
          "name": "stdout"
        }
      ]
    },
    {
      "cell_type": "markdown",
      "metadata": {
        "id": "NkHsuHh3ZOvr",
        "colab_type": "text"
      },
      "source": [
        "Create DenseNet Model"
      ]
    },
    {
      "cell_type": "code",
      "metadata": {
        "id": "4AaNlNdTZFrH",
        "colab_type": "code",
        "colab": {
          "base_uri": "https://localhost:8080/",
          "height": 85,
          "referenced_widgets": [
            "2c28589b349d413b8ffb7c70f13c96d0",
            "ed932c5903114028bd9a9d531b31c138",
            "2798eec8a55b41259d6d38731249769e",
            "7a07b15ce2144e73b2372dfc57aabc99",
            "f7fff2ea06bf4f18856663ad1ee60959",
            "0802d3020e2b423b905adf717b13cca7",
            "3d4bbd47b97941069e223191dec51ea3",
            "00335c04d212416c910c6c8554cca119"
          ]
        },
        "outputId": "9a12fb78-b31a-4725-a7cd-9dd122d3bdbc"
      },
      "source": [
        "model_densenet=densenet121(pretrained=True).features\n",
        "\n",
        "if is_cuda:\n",
        "  model_densenet=model_densenet.cuda()\n",
        "\n",
        "for p in model_densenet.parameters():\n",
        "  p.requires_grad=False"
      ],
      "execution_count": 6,
      "outputs": [
        {
          "output_type": "stream",
          "text": [
            "Downloading: \"https://download.pytorch.org/models/densenet121-a639ec97.pth\" to /root/.cache/torch/checkpoints/densenet121-a639ec97.pth\n"
          ],
          "name": "stderr"
        },
        {
          "output_type": "display_data",
          "data": {
            "application/vnd.jupyter.widget-view+json": {
              "model_id": "2c28589b349d413b8ffb7c70f13c96d0",
              "version_minor": 0,
              "version_major": 2
            },
            "text/plain": [
              "HBox(children=(IntProgress(value=0, max=32342954), HTML(value='')))"
            ]
          },
          "metadata": {
            "tags": []
          }
        },
        {
          "output_type": "stream",
          "text": [
            "\n"
          ],
          "name": "stdout"
        }
      ]
    },
    {
      "cell_type": "markdown",
      "metadata": {
        "id": "iABK1gcaZ0Pu",
        "colab_type": "text"
      },
      "source": [
        "Extracting Convolutional Features"
      ]
    },
    {
      "cell_type": "code",
      "metadata": {
        "id": "k_nneLUZZbp8",
        "colab_type": "code",
        "colab": {}
      },
      "source": [
        "train_features=[]\n",
        "train_labels=[]\n",
        "\n",
        "for data,label in train_dataloader:\n",
        "  output=model_densenet(Variable(data.cuda()))\n",
        "  output=output.view(output.size(0),-1)\n",
        "\n",
        "  train_labels.extend(label)\n",
        "  train_features.extend(output.cpu().data)"
      ],
      "execution_count": 0,
      "outputs": []
    },
    {
      "cell_type": "code",
      "metadata": {
        "id": "H5RI4zGgaXl5",
        "colab_type": "code",
        "colab": {}
      },
      "source": [
        "valid_features=[]\n",
        "valid_labels=[]\n",
        "\n",
        "for data,label in valid_dataloader:\n",
        "  output=model_densenet(Variable(data.cuda()))\n",
        "  output=output.view(output.size(0),-1)\n",
        "\n",
        "  valid_labels.extend(label)\n",
        "  valid_features.extend(output.cpu().data)"
      ],
      "execution_count": 0,
      "outputs": []
    },
    {
      "cell_type": "markdown",
      "metadata": {
        "id": "n3QoD_u9akJ1",
        "colab_type": "text"
      },
      "source": [
        "Customize the Dataset"
      ]
    },
    {
      "cell_type": "code",
      "metadata": {
        "id": "8BXoRfIHal8e",
        "colab_type": "code",
        "colab": {}
      },
      "source": [
        "class FeaturesDataset(Dataset):\n",
        "  def __init__(self,featurelist,labellist):\n",
        "    self.featurelist=featurelist\n",
        "    self.labellist=labellist\n",
        "\n",
        "  def __getitem__(self,index):\n",
        "    return(self.featurelist[index],self.labellist[index])\n",
        "\n",
        "  def __len__(self):\n",
        "    return len(self.labellist)"
      ],
      "execution_count": 0,
      "outputs": []
    },
    {
      "cell_type": "markdown",
      "metadata": {
        "id": "E7zmXudAanaI",
        "colab_type": "text"
      },
      "source": [
        "Creating Train and Validation Feature Dataset\n",
        "\n",
        "---\n",
        "\n",
        "(DataLoader)"
      ]
    },
    {
      "cell_type": "code",
      "metadata": {
        "id": "0WFOkB_Kan3r",
        "colab_type": "code",
        "colab": {}
      },
      "source": [
        "train_feature_dataset=FeaturesDataset(train_features,train_labels)\n",
        "valid_feature_dataset=FeaturesDataset(valid_features,valid_labels)\n",
        "\n",
        "train_feature_loader=DataLoader(train_feature_dataset,batch_size=64,shuffle=True,drop_last=True)\n",
        "valid_feature_loader=DataLoader(valid_feature_dataset,batch_size=64)"
      ],
      "execution_count": 0,
      "outputs": []
    },
    {
      "cell_type": "code",
      "metadata": {
        "id": "EcpRF2bSba2r",
        "colab_type": "code",
        "colab": {}
      },
      "source": [
        "class FullyConnectedModel(nn.Module):\n",
        "  def __init__(self,input_size,output_size,training=True):\n",
        "    super().__init__()\n",
        "    self.fc=nn.Linear(input_size,output_size)\n",
        "\n",
        "  def forward(self,input):\n",
        "    output=F.dropout(input,training=self.training,p=0.5)\n",
        "    output=self.fc(output)\n",
        "    return output"
      ],
      "execution_count": 0,
      "outputs": []
    },
    {
      "cell_type": "code",
      "metadata": {
        "id": "H8-_qXfobtZE",
        "colab_type": "code",
        "outputId": "3c2e15ca-fadf-4c4b-c488-f20d724e8c53",
        "colab": {
          "base_uri": "https://localhost:8080/",
          "height": 35
        }
      },
      "source": [
        "print(train_features[0].size(0))\n",
        "\n",
        "fc_in_size=train_features[0].size(0)\n",
        "classes=2\n",
        "\n",
        "fc=FullyConnectedModel(fc_in_size,classes)\n",
        "\n",
        "if is_cuda:\n",
        "  fc=fc.cuda()"
      ],
      "execution_count": 51,
      "outputs": [
        {
          "output_type": "stream",
          "text": [
            "82944\n"
          ],
          "name": "stdout"
        }
      ]
    },
    {
      "cell_type": "markdown",
      "metadata": {
        "id": "3L06OAXbcTHA",
        "colab_type": "text"
      },
      "source": [
        "Optimizer"
      ]
    },
    {
      "cell_type": "code",
      "metadata": {
        "id": "mQC-KqfRcKUI",
        "colab_type": "code",
        "colab": {}
      },
      "source": [
        "optimizer=optim.Adam(fc.parameters(),lr=0.01)"
      ],
      "execution_count": 0,
      "outputs": []
    },
    {
      "cell_type": "markdown",
      "metadata": {
        "id": "TmtJRFcJcVAG",
        "colab_type": "text"
      },
      "source": [
        "Fit the Model"
      ]
    },
    {
      "cell_type": "code",
      "metadata": {
        "id": "bhfBbwg7cSd5",
        "colab_type": "code",
        "colab": {}
      },
      "source": [
        "def fit(model,data_loader,phase='training',volatile=False):\n",
        "\n",
        "  running_loss=0.0\n",
        "  running_correct=0\n",
        "  if phase=='training':\n",
        "    model.train()\n",
        "  if phase=='validation':\n",
        "    model.eval()\n",
        "    volatile=True\n",
        "\n",
        "  for batch_idx,(data,target) in enumerate(data_loader):\n",
        "    if is_cuda:\n",
        "      data,target=data.cuda(),target.cuda()\n",
        "    \n",
        "    data,target=Variable(data,volatile),Variable(target)\n",
        "\n",
        "    if phase=='training':\n",
        "      optimizer.zero_grad()\n",
        "    \n",
        "    output=model(data)\n",
        "    loss=F.cross_entropy(output,target)\n",
        "    running_loss+=F.cross_entropy(output,target,size_average=False).data.item()\n",
        "\n",
        "    preds=output.data.max(dim=1,keepdim=True)[1]\n",
        "    running_correct+=preds.eq(target.data.view_as(preds)).cpu().sum()\n",
        "\n",
        "    if phase=='training':\n",
        "      loss.backward()\n",
        "      optimizer.step()\n",
        "\n",
        "  loss=running_loss/len(data_loader.dataset)\n",
        "  accuracy=100.*running_correct/len(data_loader.dataset)\n",
        "\n",
        "  print(f'{phase} loss is {loss} and accuracy is {accuracy}')\n",
        "\n",
        "  return loss,accuracy"
      ],
      "execution_count": 0,
      "outputs": []
    },
    {
      "cell_type": "code",
      "metadata": {
        "id": "FDdX4EaIcYFR",
        "colab_type": "code",
        "outputId": "f1268565-bf48-4d96-cadf-85c0cc2a030d",
        "colab": {
          "base_uri": "https://localhost:8080/",
          "height": 737
        }
      },
      "source": [
        "train_loss,train_acc=[],[]\n",
        "valid_loss,valid_acc=[],[]\n",
        "\n",
        "for epoch in range(1,20):\n",
        "  train_epoch_loss,train_epoch_acc=fit(fc,train_feature_loader,phase='training')\n",
        "  valid_epoch_loss,valid_epoch_acc=fit(fc,valid_feature_loader,phase='validation')\n",
        "\n",
        "  train_loss.append(train_epoch_loss)\n",
        "  train_acc.append(train_epoch_acc)\n",
        "\n",
        "  valid_loss.append(valid_epoch_loss)\n",
        "  valid_acc.append(valid_epoch_acc)"
      ],
      "execution_count": 54,
      "outputs": [
        {
          "output_type": "stream",
          "text": [
            "/usr/local/lib/python3.6/dist-packages/torch/nn/_reduction.py:43: UserWarning: size_average and reduce args will be deprecated, please use reduction='sum' instead.\n",
            "  warnings.warn(warning.format(ret))\n"
          ],
          "name": "stderr"
        },
        {
          "output_type": "stream",
          "text": [
            "training loss is 8.22818025869131 and accuracy is 84.5999984741211\n",
            "validation loss is 2.5442128829956054 and accuracy is 96.0\n",
            "training loss is 1.3293448792509734 and accuracy is 97.0\n",
            "validation loss is 2.015152979373932 and accuracy is 96.69999694824219\n",
            "training loss is 0.5413986614346504 and accuracy is 97.8499984741211\n",
            "validation loss is 1.9528486435413361 and accuracy is 97.0999984741211\n",
            "training loss is 0.4768651092946529 and accuracy is 98.3499984741211\n",
            "validation loss is 2.134680731534958 and accuracy is 96.9000015258789\n",
            "training loss is 0.2694399343729019 and accuracy is 98.55000305175781\n",
            "validation loss is 2.162102296769619 and accuracy is 97.5\n",
            "training loss is 0.4093078500032425 and accuracy is 98.4000015258789\n",
            "validation loss is 2.373326005935669 and accuracy is 96.9000015258789\n",
            "training loss is 0.3715925136804581 and accuracy is 98.25\n",
            "validation loss is 3.5784762592315675 and accuracy is 95.0999984741211\n",
            "training loss is 0.22793592751026154 and accuracy is 98.5999984741211\n",
            "validation loss is 2.744515827178955 and accuracy is 96.5999984741211\n",
            "training loss is 0.3584221654832363 and accuracy is 98.5\n",
            "validation loss is 2.7806821117401124 and accuracy is 97.0\n",
            "training loss is 0.20787643694877625 and accuracy is 98.6500015258789\n",
            "validation loss is 3.416609283685684 and accuracy is 96.9000015258789\n",
            "training loss is 0.21776876068115233 and accuracy is 98.69999694824219\n",
            "validation loss is 3.13929257774353 and accuracy is 96.5999984741211\n",
            "training loss is 0.2673113107085228 and accuracy is 98.80000305175781\n",
            "validation loss is 3.2525521669387816 and accuracy is 96.5999984741211\n",
            "training loss is 0.20099383980035782 and accuracy is 98.6500015258789\n",
            "validation loss is 3.5047683756351473 and accuracy is 96.5\n",
            "training loss is 0.33449438190460207 and accuracy is 98.55000305175781\n",
            "validation loss is 4.123390350341797 and accuracy is 96.4000015258789\n",
            "training loss is 0.345377617508173 and accuracy is 98.5\n",
            "validation loss is 5.183686712265015 and accuracy is 96.30000305175781\n",
            "training loss is 0.2795286572054029 and accuracy is 98.75\n",
            "validation loss is 3.98825141954422 and accuracy is 97.0999984741211\n",
            "training loss is 0.2886266222596168 and accuracy is 98.69999694824219\n",
            "validation loss is 4.5985453433990475 and accuracy is 96.30000305175781\n",
            "training loss is 0.2259311239719391 and accuracy is 98.69999694824219\n",
            "validation loss is 4.589277947902679 and accuracy is 96.30000305175781\n",
            "training loss is 0.23684694308042525 and accuracy is 98.80000305175781\n",
            "validation loss is 4.981404079437256 and accuracy is 96.19999694824219\n"
          ],
          "name": "stdout"
        }
      ]
    },
    {
      "cell_type": "code",
      "metadata": {
        "id": "sUFcpEDLcbb2",
        "colab_type": "code",
        "colab": {}
      },
      "source": [
        "matrix_2_2=valid_acc\n"
      ],
      "execution_count": 0,
      "outputs": []
    },
    {
      "cell_type": "code",
      "metadata": {
        "id": "eqUeJQZsyxWA",
        "colab_type": "code",
        "colab": {
          "base_uri": "https://localhost:8080/",
          "height": 283
        },
        "outputId": "37c07825-b60c-4aef-c15d-be331f12c418"
      },
      "source": [
        "import matplotlib.pyplot as plt\n",
        "plt.plot(range(1,20),matrix_1_1,'b',label='dropout=0.2 + lr=0.0001')\n",
        "plt.plot(range(1,20),matrix_1_2,'r',label='dropout=0.2 + lr=0.01')\n",
        "\n",
        "plt.plot(range(1,20),matrix_2_1,'--b',label='dropout=0.5 + lr=0.0001')\n",
        "plt.plot(range(1,20),matrix_2_2,'--r',label='dropout=0.5 + lr=0.01')\n",
        "\n",
        "plt.legend()"
      ],
      "execution_count": 56,
      "outputs": [
        {
          "output_type": "execute_result",
          "data": {
            "text/plain": [
              "<matplotlib.legend.Legend at 0x7f36834bd160>"
            ]
          },
          "metadata": {
            "tags": []
          },
          "execution_count": 56
        },
        {
          "output_type": "display_data",
          "data": {
            "image/png": "[encoded data removed]",
            "text/plain": [
              "<Figure size 432x288 with 1 Axes>"
            ]
          },
          "metadata": {
            "tags": []
          }
        }
      ]
    }
  ]
}