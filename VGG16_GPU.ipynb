{
  "nbformat": 4,
  "nbformat_minor": 0,
  "metadata": {
    "colab": {
      "name": "VGG16_GPU",
      "provenance": [],
      "collapsed_sections": [],
      "mount_file_id": "14H0mtYz0YObpXneihEEbEwtQLUhSvoC7",
      "authorship_tag": "ABX9TyORtnqK0lHP8shrsxE6Sfuo",
      "include_colab_link": true
    },
    "kernelspec": {
      "name": "python3",
      "display_name": "Python 3"
    },
    "accelerator": "GPU"
  },
  "cells": [
    {
      "cell_type": "markdown",
      "metadata": {
        "id": "view-in-github",
        "colab_type": "text"
      },
      "source": [
        "<a href=\"https://colab.research.google.com/github/jmq19950824/Machine-Learning-with-Python/blob/master/VGG16_GPU.ipynb\" target=\"_parent\"><img src=\"https://colab.research.google.com/assets/colab-badge.svg\" alt=\"Open In Colab\"/></a>"
      ]
    },
    {
      "cell_type": "code",
      "metadata": {
        "id": "mItLH3aqZxHC",
        "colab_type": "code",
        "colab": {}
      },
      "source": [
        "from torchvision import transforms\n",
        "from torchvision.datasets import ImageFolder\n",
        "import torch\n",
        "from torchvision import models\n",
        "import torch.nn as nn\n",
        "import torch.nn.functional as F\n",
        "from torch import optim\n",
        "from torch.autograd import Variable\n",
        "import time\n",
        "import numpy as np\n",
        "from torch.utils.data import Dataset,DataLoader"
      ],
      "execution_count": 0,
      "outputs": []
    },
    {
      "cell_type": "code",
      "metadata": {
        "id": "js0gX3sEcv5M",
        "colab_type": "code",
        "colab": {}
      },
      "source": [
        "vgg=models.vgg16(pretrained=True).cuda()\n",
        "\n",
        "if torch.cuda.is_available():\n",
        "  is_cuda=True\n",
        "\n",
        "for param in vgg.features.parameters():\n",
        "  param.requires_grad=False\n",
        "\n",
        "vgg.classifier[6].out_features=2"
      ],
      "execution_count": 0,
      "outputs": []
    },
    {
      "cell_type": "markdown",
      "metadata": {
        "id": "UslJXkPxe3mQ",
        "colab_type": "text"
      },
      "source": [
        "Data"
      ]
    },
    {
      "cell_type": "code",
      "metadata": {
        "id": "JqoSJz-ExMrI",
        "colab_type": "code",
        "colab": {}
      },
      "source": [
        "#Data augmentation\n",
        "aug_transform=transforms.Compose([transforms.Resize((224,224)),\n",
        "                 transforms.RandomHorizontalFlip(),\n",
        "                 transforms.RandomRotation(0.2),\n",
        "                 transforms.ToTensor(),\n",
        "                 transforms.Normalize([0.485,0.456,0.406],[0.229,0.224,0.225])])\n",
        "simple_transform=transforms.Compose([transforms.Resize((224,224)),transforms.ToTensor(),\n",
        "                  transforms.Normalize([0.485,0.456,0.406],[0.229,0.224,0.225])])\n",
        "train=ImageFolder('../content/drive/My Drive/Book Codes/PyTorch深度学习/dogsandcats/train/',aug_transform)\n",
        "valid=ImageFolder('../content/drive/My Drive/Book Codes/PyTorch深度学习/dogsandcats/valid/',simple_transform)"
      ],
      "execution_count": 0,
      "outputs": []
    },
    {
      "cell_type": "code",
      "metadata": {
        "id": "JDzKeKZjewMV",
        "colab_type": "code",
        "colab": {}
      },
      "source": [
        "simple_transform=transforms.Compose([transforms.Resize((224,224)),transforms.ToTensor(),\n",
        "                  transforms.Normalize([0.485,0.456,0.406],[0.229,0.224,0.225])])\n",
        "train=ImageFolder('../content/drive/My Drive/Book Codes/PyTorch深度学习/dogsandcats/train/',simple_transform)\n",
        "valid=ImageFolder('../content/drive/My Drive/Book Codes/PyTorch深度学习/dogsandcats/valid/',simple_transform)"
      ],
      "execution_count": 0,
      "outputs": []
    },
    {
      "cell_type": "code",
      "metadata": {
        "id": "D4-Q9iJEfD4w",
        "colab_type": "code",
        "colab": {}
      },
      "source": [
        "def preconvfeat(dataset,model):\n",
        "  conv_features=[]\n",
        "  labels_list=[]\n",
        "\n",
        "  for data in dataset:\n",
        "    inputs,labels=data\n",
        "\n",
        "    if is_cuda:\n",
        "      inputs,labels=inputs.cuda(),labels.cuda()\n",
        "    \n",
        "    inputs,labels=Variable(inputs),Variable(labels)\n",
        "    output=model(inputs)\n",
        "\n",
        "    conv_features.extend(output.data.cpu().numpy())\n",
        "    labels_list.extend(labels.data.cpu().numpy())\n",
        "\n",
        "  conv_features=np.concatenate([[feat] for feat in conv_features])\n",
        "  return(conv_features,labels_list)"
      ],
      "execution_count": 0,
      "outputs": []
    },
    {
      "cell_type": "code",
      "metadata": {
        "id": "mrANUfD3jVQW",
        "colab_type": "code",
        "colab": {}
      },
      "source": [
        "class My_dataset(Dataset):\n",
        "    def __init__(self,feat,labels):\n",
        "        self.conv_feat = feat\n",
        "        self.labels = labels\n",
        "    \n",
        "    def __len__(self):\n",
        "        return len(self.conv_feat)\n",
        "    \n",
        "    def __getitem__(self,idx):\n",
        "        return self.conv_feat[idx],self.labels[idx]"
      ],
      "execution_count": 0,
      "outputs": []
    },
    {
      "cell_type": "code",
      "metadata": {
        "id": "22O6Y55pfkv5",
        "colab_type": "code",
        "colab": {}
      },
      "source": [
        "train_data_loader = torch.utils.data.DataLoader(train,batch_size=32,num_workers=8,shuffle=True)\n",
        "valid_data_loader = torch.utils.data.DataLoader(valid,batch_size=32,num_workers=8,shuffle=True)\n",
        "\n",
        "conv_feat_train,labels_train=preconvfeat(train_data_loader,vgg.features)\n",
        "conv_feat_val,labels_val=preconvfeat(valid_data_loader,vgg.features)\n",
        "\n",
        "train_feat_dataset=My_dataset(conv_feat_train,labels_train)\n",
        "val_feat_dataset=My_dataset(conv_feat_val,labels_val)\n",
        "\n",
        "train_feat_loader=DataLoader(train_feat_dataset,batch_size=32,shuffle=True)\n",
        "val_feat_loader=DataLoader(val_feat_dataset,batch_size=32,shuffle=True)"
      ],
      "execution_count": 0,
      "outputs": []
    },
    {
      "cell_type": "markdown",
      "metadata": {
        "id": "Pq3KXzrxsKNN",
        "colab_type": "text"
      },
      "source": [
        "def data_gen(conv_feat,labels,batch_size=64,shuffle=True):\n",
        "  labels = np.array(labels)\n",
        "  if shuffle:\n",
        "      index = np.random.permutation(len(conv_feat))\n",
        "      conv_feat = conv_feat[index]\n",
        "      labels = labels[index]\n",
        "  for idx in range(0,len(conv_feat),batch_size):\n",
        "      yield(conv_feat[idx:idx+batch_size],labels[idx:idx+batch_size])"
      ]
    },
    {
      "cell_type": "markdown",
      "metadata": {
        "id": "NG35DDKIsJlw",
        "colab_type": "text"
      },
      "source": [
        "train_batches = data_gen(conv_feat_train,labels_train)\n",
        "val_batches = data_gen(conv_feat_val,labels_val)"
      ]
    },
    {
      "cell_type": "code",
      "metadata": {
        "id": "xNYulP7lc4sC",
        "colab_type": "code",
        "colab": {}
      },
      "source": [
        "optimizer=optim.SGD(vgg.classifier.parameters(),lr=0.0001,momentum=0.5)"
      ],
      "execution_count": 0,
      "outputs": []
    },
    {
      "cell_type": "code",
      "metadata": {
        "id": "0YLyX6O2c5_8",
        "colab_type": "code",
        "colab": {}
      },
      "source": [
        "def fit_numpy(model,data_loader,phase='training',volatile=False):\n",
        "  \n",
        "  running_loss=0.0\n",
        "  running_acc=0\n",
        "\n",
        "  if phase=='training':\n",
        "    model.train()\n",
        "  if phase=='validation':\n",
        "    model.eval()\n",
        "    volatile=True\n",
        "\n",
        "  for batch_idx,(data,target) in enumerate(data_loader):\n",
        "    if is_cuda:\n",
        "      data,target=data.cuda(),target.cuda()\n",
        "    data,target=Variable(data,volatile),Variable(target)\n",
        "\n",
        "    if phase=='training':\n",
        "      optimizer.zero_grad()\n",
        "    ###\n",
        "    data=data.view(data.size(0),-1)\n",
        "    ###\n",
        "    output=model(data)\n",
        "    loss=F.cross_entropy(output,target)\n",
        "    preds=output.data.max(dim=1,keepdim=True)[1]\n",
        "    #What is the difference between nll_loss and cross_entropy?\n",
        "    running_loss+=F.cross_entropy(output,target,size_average=False).data\n",
        "    running_acc+=preds.eq(target.data.view_as(preds)).cpu().sum()\n",
        "\n",
        "    if phase=='training':\n",
        "      loss.backward()\n",
        "      optimizer.step()\n",
        "  \n",
        "  loss=running_loss/len(data_loader.dataset)\n",
        "  acc=100.*running_acc/len(data_loader.dataset)\n",
        "\n",
        "  print(f'loss in {phase}:{loss};acc in {phase}:{acc}')\n",
        "  return loss,acc"
      ],
      "execution_count": 0,
      "outputs": []
    },
    {
      "cell_type": "code",
      "metadata": {
        "id": "2iiu29WZueRq",
        "colab_type": "code",
        "colab": {}
      },
      "source": [
        "for layer in vgg.classifier.children():\n",
        "  if(type(layer)==nn.Dropout):\n",
        "    layer.p=0.5"
      ],
      "execution_count": 0,
      "outputs": []
    },
    {
      "cell_type": "code",
      "metadata": {
        "id": "BawSXhMHc_nl",
        "colab_type": "code",
        "outputId": "af9fa4cd-3b25-4394-898e-2e45afbea70c",
        "colab": {
          "base_uri": "https://localhost:8080/",
          "height": 411
        }
      },
      "source": [
        "import time\n",
        "time_start=time.time()\n",
        "\n",
        "train_loss,train_acc=[],[]\n",
        "val_loss,val_acc=[],[]\n",
        "for epoch in range(1,10):\n",
        "  train_epoch_loss,train_epoch_acc=fit_numpy(vgg.classifier,train_feat_loader,phase='training')\n",
        "  val_epoch_loss,val_epoch_acc=fit_numpy(vgg.classifier,val_feat_loader,phase='validation')\n",
        "  \n",
        "  train_loss.append(train_epoch_loss)\n",
        "  train_acc.append(train_epoch_acc)\n",
        "  val_loss.append(val_epoch_loss)\n",
        "  val_acc.append(val_epoch_acc)\n",
        "\n",
        "time_end=time.time()\n",
        "print(f'Running Time:{time_end-time_start}')"
      ],
      "execution_count": 0,
      "outputs": [
        {
          "output_type": "stream",
          "text": [
            "/usr/local/lib/python3.6/dist-packages/torch/nn/_reduction.py:43: UserWarning: size_average and reduce args will be deprecated, please use reduction='sum' instead.\n",
            "  warnings.warn(warning.format(ret))\n"
          ],
          "name": "stderr"
        },
        {
          "output_type": "stream",
          "text": [
            "loss in training:0.0661008358001709;acc in training:97.75499725341797\n",
            "loss in validation:0.04890551418066025;acc in validation:98.36000061035156\n",
            "loss in training:0.06315156817436218;acc in training:97.86499786376953\n",
            "loss in validation:0.046605102717876434;acc in validation:98.4000015258789\n",
            "loss in training:0.059944357722997665;acc in training:98.06500244140625\n",
            "loss in validation:0.04521862044930458;acc in validation:98.4800033569336\n",
            "loss in training:0.0589471161365509;acc in training:98.05999755859375\n",
            "loss in validation:0.044132716953754425;acc in validation:98.4800033569336\n",
            "loss in training:0.05381400138139725;acc in training:98.1449966430664\n",
            "loss in validation:0.04320521280169487;acc in validation:98.5\n",
            "loss in training:0.04991331696510315;acc in training:98.28500366210938\n",
            "loss in validation:0.04266958683729172;acc in validation:98.54000091552734\n",
            "loss in training:0.052200254052877426;acc in training:98.2300033569336\n",
            "loss in validation:0.041878651827573776;acc in validation:98.55999755859375\n",
            "loss in training:0.048591457307338715;acc in training:98.31999969482422\n",
            "loss in validation:0.04135424271225929;acc in validation:98.62000274658203\n",
            "loss in training:0.04688495025038719;acc in training:98.30000305175781\n",
            "loss in validation:0.040413230657577515;acc in validation:98.5999984741211\n",
            "Running Time:290.71339750289917\n"
          ],
          "name": "stdout"
        }
      ]
    },
    {
      "cell_type": "code",
      "metadata": {
        "id": "Rk37j5fuB-Z6",
        "colab_type": "code",
        "colab": {}
      },
      "source": [
        "train_05_noaug=train_acc\n",
        "val_05_noaug=val_acc"
      ],
      "execution_count": 0,
      "outputs": []
    },
    {
      "cell_type": "code",
      "metadata": {
        "id": "5tWPZIJsqMkl",
        "colab_type": "code",
        "outputId": "feac4ecc-1eb8-4c21-e950-8102180f2e04",
        "colab": {
          "base_uri": "https://localhost:8080/",
          "height": 283
        }
      },
      "source": [
        "import matplotlib.pyplot as plt\n",
        "plt.plot(range(1,10),train_02_noaug,'b',label='training acc + dropout=0.2')\n",
        "plt.plot(range(1,10),train_05_noaug,'r',label='training acc + dropout=0.5')\n",
        "\n",
        "plt.plot(range(1,10),val_02_noaug,'--b',label='validation acc + dropout=0.2')\n",
        "plt.plot(range(1,10),val_05_noaug,'--r',label='validation acc + dropout=0.5')\n",
        "plt.ylim(97,98.7)\n",
        "plt.legend()"
      ],
      "execution_count": 0,
      "outputs": [
        {
          "output_type": "execute_result",
          "data": {
            "text/plain": [
              "<matplotlib.legend.Legend at 0x7ff3febb3b70>"
            ]
          },
          "metadata": {
            "tags": []
          },
          "execution_count": 49
        },
        {
          "output_type": "display_data",
          "data": {
            "image/png": "[encoded data removed]",
            "text/plain": [
              "<Figure size 432x288 with 1 Axes>"
            ]
          },
          "metadata": {
            "tags": []
          }
        }
      ]
    },
    {
      "cell_type": "code",
      "metadata": {
        "id": "lOaXjQeOFGmA",
        "colab_type": "code",
        "colab": {}
      },
      "source": [
        ""
      ],
      "execution_count": 0,
      "outputs": []
    }
  ]
}