{
  "nbformat": 4,
  "nbformat_minor": 0,
  "metadata": {
    "colab": {
      "name": "Inception",
      "provenance": [],
      "collapsed_sections": [],
      "mount_file_id": "1bRkabN1uZyIY__n3DAJDFgP31iYSTG6D",
      "authorship_tag": "ABX9TyNhrSTO+vqoTkZ6bwdZGVnF",
      "include_colab_link": true
    },
    "kernelspec": {
      "name": "python3",
      "display_name": "Python 3"
    },
    "accelerator": "GPU",
    "widgets": {
      "application/vnd.jupyter.widget-state+json": {
        "72ec29d3101a4c0bb19fed6d50c9ed44": {
          "model_module": "@jupyter-widgets/controls",
          "model_name": "HBoxModel",
          "state": {
            "_view_name": "HBoxView",
            "_dom_classes": [],
            "_model_name": "HBoxModel",
            "_view_module": "@jupyter-widgets/controls",
            "_model_module_version": "1.5.0",
            "_view_count": null,
            "_view_module_version": "1.5.0",
            "box_style": "",
            "layout": "IPY_MODEL_3dff9bbdbb59469bae1442ef5c2a4fd3",
            "_model_module": "@jupyter-widgets/controls",
            "children": [
              "IPY_MODEL_611c649cb78b4b359ae4d917852c8236",
              "IPY_MODEL_c30a10c2c5f4454a872dd03a87b123d2"
            ]
          }
        },
        "3dff9bbdbb59469bae1442ef5c2a4fd3": {
          "model_module": "@jupyter-widgets/base",
          "model_name": "LayoutModel",
          "state": {
            "_view_name": "LayoutView",
            "grid_template_rows": null,
            "right": null,
            "justify_content": null,
            "_view_module": "@jupyter-widgets/base",
            "overflow": null,
            "_model_module_version": "1.2.0",
            "_view_count": null,
            "flex_flow": null,
            "width": null,
            "min_width": null,
            "border": null,
            "align_items": null,
            "bottom": null,
            "_model_module": "@jupyter-widgets/base",
            "top": null,
            "grid_column": null,
            "overflow_y": null,
            "overflow_x": null,
            "grid_auto_flow": null,
            "grid_area": null,
            "grid_template_columns": null,
            "flex": null,
            "_model_name": "LayoutModel",
            "justify_items": null,
            "grid_row": null,
            "max_height": null,
            "align_content": null,
            "visibility": null,
            "align_self": null,
            "height": null,
            "min_height": null,
            "padding": null,
            "grid_auto_rows": null,
            "grid_gap": null,
            "max_width": null,
            "order": null,
            "_view_module_version": "1.2.0",
            "grid_template_areas": null,
            "object_position": null,
            "object_fit": null,
            "grid_auto_columns": null,
            "margin": null,
            "display": null,
            "left": null
          }
        },
        "611c649cb78b4b359ae4d917852c8236": {
          "model_module": "@jupyter-widgets/controls",
          "model_name": "IntProgressModel",
          "state": {
            "_view_name": "ProgressView",
            "style": "IPY_MODEL_f75f789fad5e4a4d9fddd913eda564ac",
            "_dom_classes": [],
            "description": "",
            "_model_name": "IntProgressModel",
            "bar_style": "success",
            "max": 108857766,
            "_view_module": "@jupyter-widgets/controls",
            "_model_module_version": "1.5.0",
            "value": 108857766,
            "_view_count": null,
            "_view_module_version": "1.5.0",
            "orientation": "horizontal",
            "min": 0,
            "description_tooltip": null,
            "_model_module": "@jupyter-widgets/controls",
            "layout": "IPY_MODEL_35d8e1f7d8d84c7892678f7653c65e36"
          }
        },
        "c30a10c2c5f4454a872dd03a87b123d2": {
          "model_module": "@jupyter-widgets/controls",
          "model_name": "HTMLModel",
          "state": {
            "_view_name": "HTMLView",
            "style": "IPY_MODEL_8e7e8c356af64feeadbe2dbc830121fe",
            "_dom_classes": [],
            "description": "",
            "_model_name": "HTMLModel",
            "placeholder": "​",
            "_view_module": "@jupyter-widgets/controls",
            "_model_module_version": "1.5.0",
            "value": "100% 104M/104M [00:01&lt;00:00, 102MB/s]",
            "_view_count": null,
            "_view_module_version": "1.5.0",
            "description_tooltip": null,
            "_model_module": "@jupyter-widgets/controls",
            "layout": "IPY_MODEL_7bae243991574a64ad1f0e416dcfedaa"
          }
        },
        "f75f789fad5e4a4d9fddd913eda564ac": {
          "model_module": "@jupyter-widgets/controls",
          "model_name": "ProgressStyleModel",
          "state": {
            "_view_name": "StyleView",
            "_model_name": "ProgressStyleModel",
            "description_width": "",
            "_view_module": "@jupyter-widgets/base",
            "_model_module_version": "1.5.0",
            "_view_count": null,
            "_view_module_version": "1.2.0",
            "bar_color": null,
            "_model_module": "@jupyter-widgets/controls"
          }
        },
        "35d8e1f7d8d84c7892678f7653c65e36": {
          "model_module": "@jupyter-widgets/base",
          "model_name": "LayoutModel",
          "state": {
            "_view_name": "LayoutView",
            "grid_template_rows": null,
            "right": null,
            "justify_content": null,
            "_view_module": "@jupyter-widgets/base",
            "overflow": null,
            "_model_module_version": "1.2.0",
            "_view_count": null,
            "flex_flow": null,
            "width": null,
            "min_width": null,
            "border": null,
            "align_items": null,
            "bottom": null,
            "_model_module": "@jupyter-widgets/base",
            "top": null,
            "grid_column": null,
            "overflow_y": null,
            "overflow_x": null,
            "grid_auto_flow": null,
            "grid_area": null,
            "grid_template_columns": null,
            "flex": null,
            "_model_name": "LayoutModel",
            "justify_items": null,
            "grid_row": null,
            "max_height": null,
            "align_content": null,
            "visibility": null,
            "align_self": null,
            "height": null,
            "min_height": null,
            "padding": null,
            "grid_auto_rows": null,
            "grid_gap": null,
            "max_width": null,
            "order": null,
            "_view_module_version": "1.2.0",
            "grid_template_areas": null,
            "object_position": null,
            "object_fit": null,
            "grid_auto_columns": null,
            "margin": null,
            "display": null,
            "left": null
          }
        },
        "8e7e8c356af64feeadbe2dbc830121fe": {
          "model_module": "@jupyter-widgets/controls",
          "model_name": "DescriptionStyleModel",
          "state": {
            "_view_name": "StyleView",
            "_model_name": "DescriptionStyleModel",
            "description_width": "",
            "_view_module": "@jupyter-widgets/base",
            "_model_module_version": "1.5.0",
            "_view_count": null,
            "_view_module_version": "1.2.0",
            "_model_module": "@jupyter-widgets/controls"
          }
        },
        "7bae243991574a64ad1f0e416dcfedaa": {
          "model_module": "@jupyter-widgets/base",
          "model_name": "LayoutModel",
          "state": {
            "_view_name": "LayoutView",
            "grid_template_rows": null,
            "right": null,
            "justify_content": null,
            "_view_module": "@jupyter-widgets/base",
            "overflow": null,
            "_model_module_version": "1.2.0",
            "_view_count": null,
            "flex_flow": null,
            "width": null,
            "min_width": null,
            "border": null,
            "align_items": null,
            "bottom": null,
            "_model_module": "@jupyter-widgets/base",
            "top": null,
            "grid_column": null,
            "overflow_y": null,
            "overflow_x": null,
            "grid_auto_flow": null,
            "grid_area": null,
            "grid_template_columns": null,
            "flex": null,
            "_model_name": "LayoutModel",
            "justify_items": null,
            "grid_row": null,
            "max_height": null,
            "align_content": null,
            "visibility": null,
            "align_self": null,
            "height": null,
            "min_height": null,
            "padding": null,
            "grid_auto_rows": null,
            "grid_gap": null,
            "max_width": null,
            "order": null,
            "_view_module_version": "1.2.0",
            "grid_template_areas": null,
            "object_position": null,
            "object_fit": null,
            "grid_auto_columns": null,
            "margin": null,
            "display": null,
            "left": null
          }
        }
      }
    }
  },
  "cells": [
    {
      "cell_type": "markdown",
      "metadata": {
        "id": "view-in-github",
        "colab_type": "text"
      },
      "source": [
        "<a href=\"https://colab.research.google.com/github/jmq19950824/Machine-Learning-with-Python/blob/master/Inception.ipynb\" target=\"_parent\"><img src=\"https://colab.research.google.com/assets/colab-badge.svg\" alt=\"Open In Colab\"/></a>"
      ]
    },
    {
      "cell_type": "code",
      "metadata": {
        "id": "IjtP6MLSCgUN",
        "colab_type": "code",
        "colab": {}
      },
      "source": [
        "import pandas as pd\n",
        "from glob import glob\n",
        "import os\n",
        "from shutil import copyfile\n",
        "from torch.utils.data import Dataset\n",
        "from PIL import Image\n",
        "import numpy as np\n",
        "from numpy.random import permutation\n",
        "import matplotlib.pyplot as plt\n",
        "\n",
        "from torchvision import transforms\n",
        "from torchvision.datasets import ImageFolder\n",
        "from torchvision.models.inception import inception_v3\n",
        "from torch.utils.data import DataLoader\n",
        "from torch.autograd import Variable\n",
        "import torch\n",
        "import torch.nn as nn\n",
        "import torch.optim as optim\n",
        "import torch.nn.functional as F"
      ],
      "execution_count": 0,
      "outputs": []
    },
    {
      "cell_type": "code",
      "metadata": {
        "id": "DGQHk07uIz3E",
        "colab_type": "code",
        "colab": {}
      },
      "source": [
        "%matplotlib inline"
      ],
      "execution_count": 0,
      "outputs": []
    },
    {
      "cell_type": "markdown",
      "metadata": {
        "id": "3hVpJ-XDJIMe",
        "colab_type": "text"
      },
      "source": [
        "GPU Environment"
      ]
    },
    {
      "cell_type": "code",
      "metadata": {
        "id": "Hdr9Jc9EJFjb",
        "colab_type": "code",
        "outputId": "7614f539-ee99-4f30-fb1a-c1b0646360a2",
        "colab": {
          "base_uri": "https://localhost:8080/",
          "height": 35
        }
      },
      "source": [
        "is_cuda=torch.cuda.is_available()\n",
        "is_cuda"
      ],
      "execution_count": 3,
      "outputs": [
        {
          "output_type": "execute_result",
          "data": {
            "text/plain": [
              "True"
            ]
          },
          "metadata": {
            "tags": []
          },
          "execution_count": 3
        }
      ]
    },
    {
      "cell_type": "markdown",
      "metadata": {
        "id": "TZ_LjD6AOa5v",
        "colab_type": "text"
      },
      "source": [
        "Original Data"
      ]
    },
    {
      "cell_type": "code",
      "metadata": {
        "id": "cpv7m4RgOc9u",
        "colab_type": "code",
        "colab": {}
      },
      "source": [
        "data_transform=transforms.Compose([transforms.Resize((299,299)),\n",
        "                  transforms.ToTensor(),\n",
        "                  transforms.Normalize([0.485,0.456,0.406],[0.229,0.224,0.225])])"
      ],
      "execution_count": 0,
      "outputs": []
    },
    {
      "cell_type": "code",
      "metadata": {
        "id": "4ojda9-lOz0B",
        "colab_type": "code",
        "colab": {}
      },
      "source": [
        "train_dataset=ImageFolder('/content/drive/My Drive/Book Codes/PyTorch深度学习/dogsandcats/minitrain',transform=data_transform)\n",
        "valid_dataset=ImageFolder('/content/drive/My Drive/Book Codes/PyTorch深度学习/dogsandcats/minivalid',transform=data_transform)\n",
        "\n",
        "train_dataloader=DataLoader(train_dataset,batch_size=32,shuffle=False,num_workers=8)\n",
        "valid_dataloader=DataLoader(valid_dataset,batch_size=32,shuffle=False,num_workers=8)"
      ],
      "execution_count": 0,
      "outputs": []
    },
    {
      "cell_type": "code",
      "metadata": {
        "id": "aMi4xNln_vtJ",
        "colab_type": "code",
        "outputId": "2625e256-2a3b-4f9d-89f3-dfd5fa68e40c",
        "colab": {
          "base_uri": "https://localhost:8080/",
          "height": 341
        }
      },
      "source": [
        "print(train_dataset)\n",
        "print(valid_dataset)"
      ],
      "execution_count": 6,
      "outputs": [
        {
          "output_type": "stream",
          "text": [
            "Dataset ImageFolder\n",
            "    Number of datapoints: 2000\n",
            "    Root location: /content/drive/My Drive/Book Codes/PyTorch深度学习/dogsandcats/minitrain\n",
            "    StandardTransform\n",
            "Transform: Compose(\n",
            "               Resize(size=(299, 299), interpolation=PIL.Image.BILINEAR)\n",
            "               ToTensor()\n",
            "               Normalize(mean=[0.485, 0.456, 0.406], std=[0.229, 0.224, 0.225])\n",
            "           )\n",
            "Dataset ImageFolder\n",
            "    Number of datapoints: 1000\n",
            "    Root location: /content/drive/My Drive/Book Codes/PyTorch深度学习/dogsandcats/minivalid\n",
            "    StandardTransform\n",
            "Transform: Compose(\n",
            "               Resize(size=(299, 299), interpolation=PIL.Image.BILINEAR)\n",
            "               ToTensor()\n",
            "               Normalize(mean=[0.485, 0.456, 0.406], std=[0.229, 0.224, 0.225])\n",
            "           )\n"
          ],
          "name": "stdout"
        }
      ]
    },
    {
      "cell_type": "markdown",
      "metadata": {
        "id": "Onbr2eRaMBwI",
        "colab_type": "text"
      },
      "source": [
        "Create Inception Model"
      ]
    },
    {
      "cell_type": "code",
      "metadata": {
        "id": "UpWwNViEL_N4",
        "colab_type": "code",
        "outputId": "ce9e6dab-a24e-4bfc-da79-08393872b915",
        "colab": {
          "base_uri": "https://localhost:8080/",
          "height": 85,
          "referenced_widgets": [
            "72ec29d3101a4c0bb19fed6d50c9ed44",
            "3dff9bbdbb59469bae1442ef5c2a4fd3",
            "611c649cb78b4b359ae4d917852c8236",
            "c30a10c2c5f4454a872dd03a87b123d2",
            "f75f789fad5e4a4d9fddd913eda564ac",
            "35d8e1f7d8d84c7892678f7653c65e36",
            "8e7e8c356af64feeadbe2dbc830121fe",
            "7bae243991574a64ad1f0e416dcfedaa"
          ]
        }
      },
      "source": [
        "model_inception=inception_v3(pretrained=True)\n",
        "model_inception.aux_logits=False\n",
        "\n",
        "if is_cuda:\n",
        "  model_inception=model_inception.cuda()"
      ],
      "execution_count": 7,
      "outputs": [
        {
          "output_type": "stream",
          "text": [
            "Downloading: \"https://download.pytorch.org/models/inception_v3_google-1a9a5a14.pth\" to /root/.cache/torch/checkpoints/inception_v3_google-1a9a5a14.pth\n"
          ],
          "name": "stderr"
        },
        {
          "output_type": "display_data",
          "data": {
            "application/vnd.jupyter.widget-view+json": {
              "model_id": "72ec29d3101a4c0bb19fed6d50c9ed44",
              "version_minor": 0,
              "version_major": 2
            },
            "text/plain": [
              "HBox(children=(IntProgress(value=0, max=108857766), HTML(value='')))"
            ]
          },
          "metadata": {
            "tags": []
          }
        },
        {
          "output_type": "stream",
          "text": [
            "\n"
          ],
          "name": "stdout"
        }
      ]
    },
    {
      "cell_type": "markdown",
      "metadata": {
        "id": "2sB0uE82Ml8o",
        "colab_type": "text"
      },
      "source": [
        "Extracting Convolutional Features"
      ]
    },
    {
      "cell_type": "code",
      "metadata": {
        "id": "mN3LmEE5KWna",
        "colab_type": "code",
        "colab": {}
      },
      "source": [
        "class LayerActivations():\n",
        "  def __init__(self,model):\n",
        "    self.features=[]\n",
        "    self.hook=model.register_forward_hook(self.hook_fn)\n",
        "\n",
        "  def hook_fn(self,module,input,output):\n",
        "    self.features.extend(output.view(output.size(0),-1).cpu().data)\n",
        "\n",
        "  def remove(self):\n",
        "    self.hook.remove()"
      ],
      "execution_count": 0,
      "outputs": []
    },
    {
      "cell_type": "code",
      "metadata": {
        "id": "VKlM6MI-OWDM",
        "colab_type": "code",
        "colab": {}
      },
      "source": [
        "train_features=LayerActivations(model_inception.Mixed_7c)\n",
        "train_labels=[]\n",
        "\n",
        "for data,label in train_dataloader:\n",
        "  _=model_inception(Variable(data.cuda()))\n",
        "  train_labels.extend(label)\n",
        "\n",
        "train_features.remove()"
      ],
      "execution_count": 0,
      "outputs": []
    },
    {
      "cell_type": "code",
      "metadata": {
        "id": "aAe7EZKmQaff",
        "colab_type": "code",
        "colab": {}
      },
      "source": [
        "valid_features=LayerActivations(model_inception.Mixed_7c)\n",
        "valid_labels=[]\n",
        "\n",
        "for data,label in valid_dataloader:\n",
        "  _=model_inception(Variable(data.cuda()))\n",
        "  valid_labels.extend(label)\n",
        "\n",
        "valid_features.remove()"
      ],
      "execution_count": 0,
      "outputs": []
    },
    {
      "cell_type": "markdown",
      "metadata": {
        "id": "Z8LPs6_bRowv",
        "colab_type": "text"
      },
      "source": [
        "Customize the Dataset"
      ]
    },
    {
      "cell_type": "code",
      "metadata": {
        "id": "BEE-bDhLSUQ-",
        "colab_type": "code",
        "colab": {}
      },
      "source": [
        "class FeaturesDataset(Dataset):\n",
        "  def __init__(self,featurelist,labellist):\n",
        "    self.featurelist=featurelist\n",
        "    self.labellist=labellist\n",
        "\n",
        "  def __getitem__(self,index):\n",
        "    return(self.featurelist[index],self.labellist[index])\n",
        "\n",
        "  def __len__(self):\n",
        "    return len(self.labellist)"
      ],
      "execution_count": 0,
      "outputs": []
    },
    {
      "cell_type": "markdown",
      "metadata": {
        "id": "gKtU3AnRSZbi",
        "colab_type": "text"
      },
      "source": [
        "Creating Train and Validation Feature Dataset(DataLoader)"
      ]
    },
    {
      "cell_type": "code",
      "metadata": {
        "id": "IhiyObeeSb2R",
        "colab_type": "code",
        "colab": {}
      },
      "source": [
        "train_feature_dataset=FeaturesDataset(train_features.features,train_labels)\n",
        "valid_feature_dataset=FeaturesDataset(valid_features.features,valid_labels)\n",
        "\n",
        "train_feature_loader=DataLoader(train_feature_dataset,batch_size=64,shuffle=True)\n",
        "valid_feature_loader=DataLoader(valid_feature_dataset,batch_size=64)"
      ],
      "execution_count": 0,
      "outputs": []
    },
    {
      "cell_type": "markdown",
      "metadata": {
        "id": "2WUDEOLuT7hR",
        "colab_type": "text"
      },
      "source": [
        "A Fully Connected Network"
      ]
    },
    {
      "cell_type": "code",
      "metadata": {
        "id": "2CnGElcpT-_I",
        "colab_type": "code",
        "colab": {}
      },
      "source": [
        "class FullyConnectedModel(nn.Module):\n",
        "  def __init__(self,input_size,output_size,training=True):\n",
        "    super().__init__()\n",
        "    self.fc=nn.Linear(input_size,output_size)\n",
        "\n",
        "  def forward(self,input):\n",
        "    output=F.dropout(input,training=self.training,p=0.5)\n",
        "    output=self.fc(output)\n",
        "    return output"
      ],
      "execution_count": 0,
      "outputs": []
    },
    {
      "cell_type": "code",
      "metadata": {
        "id": "WCKeGtb5U1nS",
        "colab_type": "code",
        "colab": {}
      },
      "source": [
        "fc_in_size=131072\n",
        "classes=2\n",
        "\n",
        "fc=FullyConnectedModel(fc_in_size,classes)\n",
        "\n",
        "if is_cuda:\n",
        "  fc=fc.cuda()"
      ],
      "execution_count": 0,
      "outputs": []
    },
    {
      "cell_type": "markdown",
      "metadata": {
        "id": "AV_2d5n_-3Gh",
        "colab_type": "text"
      },
      "source": [
        "Optimizer"
      ]
    },
    {
      "cell_type": "code",
      "metadata": {
        "id": "2fhyQYZC-4uJ",
        "colab_type": "code",
        "colab": {}
      },
      "source": [
        "optimizer=optim.Adam(fc.parameters(),lr=0.01)"
      ],
      "execution_count": 0,
      "outputs": []
    },
    {
      "cell_type": "markdown",
      "metadata": {
        "id": "C7HNQlyzUzh9",
        "colab_type": "text"
      },
      "source": [
        "Fit the Model"
      ]
    },
    {
      "cell_type": "code",
      "metadata": {
        "id": "tTovvn_zUyn4",
        "colab_type": "code",
        "colab": {}
      },
      "source": [
        "def fit(model,data_loader,phase='training',volatile=False):\n",
        "\n",
        "  running_loss=0.0\n",
        "  running_correct=0\n",
        "  if phase=='training':\n",
        "    model.train()\n",
        "  if phase=='validation':\n",
        "    model.eval()\n",
        "    volatile=True\n",
        "\n",
        "  for batch_idx,(data,target) in enumerate(data_loader):\n",
        "    if is_cuda:\n",
        "      data,target=data.cuda(),target.cuda()\n",
        "    \n",
        "    data,target=Variable(data,volatile),Variable(target)\n",
        "\n",
        "    if phase=='training':\n",
        "      optimizer.zero_grad()\n",
        "    \n",
        "    output=model(data)\n",
        "    loss=F.cross_entropy(output,target)\n",
        "    running_loss+=F.cross_entropy(output,target,size_average=False).data.item()\n",
        "\n",
        "    preds=output.data.max(dim=1,keepdim=True)[1]\n",
        "    running_correct+=preds.eq(target.data.view_as(preds)).cpu().sum()\n",
        "\n",
        "    if phase=='training':\n",
        "      loss.backward()\n",
        "      optimizer.step()\n",
        "\n",
        "  loss=running_loss/len(data_loader.dataset)\n",
        "  accuracy=100.*running_correct/len(data_loader.dataset)\n",
        "\n",
        "  print(f'{phase} loss is {loss} and accuracy is {accuracy}')\n",
        "\n",
        "  return loss,accuracy"
      ],
      "execution_count": 0,
      "outputs": []
    },
    {
      "cell_type": "code",
      "metadata": {
        "id": "E27IMsWeVF6X",
        "colab_type": "code",
        "outputId": "b69650be-e872-4407-aff0-5b30181e5027",
        "colab": {
          "base_uri": "https://localhost:8080/",
          "height": 737
        }
      },
      "source": [
        "train_loss,train_acc=[],[]\n",
        "valid_loss,valid_acc=[],[]\n",
        "\n",
        "for epoch in range(1,20):\n",
        "  train_epoch_loss,train_epoch_acc=fit(fc,train_feature_loader,phase='training')\n",
        "  valid_epoch_loss,valid_epoch_acc=fit(fc,valid_feature_loader,phase='validation')\n",
        "\n",
        "  train_loss.append(train_epoch_loss)\n",
        "  train_acc.append(train_epoch_acc)\n",
        "\n",
        "  valid_loss.append(valid_epoch_loss)\n",
        "  valid_acc.append(valid_epoch_acc)"
      ],
      "execution_count": 57,
      "outputs": [
        {
          "output_type": "stream",
          "text": [
            "/usr/local/lib/python3.6/dist-packages/torch/nn/_reduction.py:43: UserWarning: size_average and reduce args will be deprecated, please use reduction='sum' instead.\n",
            "  warnings.warn(warning.format(ret))\n"
          ],
          "name": "stderr"
        },
        {
          "output_type": "stream",
          "text": [
            "training loss is 70.94008355140686 and accuracy is 62.70000076293945\n",
            "validation loss is 14.31446083831787 and accuracy is 75.30000305175781\n",
            "training loss is 4.071392342209816 and accuracy is 90.75\n",
            "validation loss is 4.457132048070431 and accuracy is 87.4000015258789\n",
            "training loss is 0.7844171045571565 and accuracy is 97.4000015258789\n",
            "validation loss is 6.29143728017807 and accuracy is 86.9000015258789\n",
            "training loss is 0.5583581600189209 and accuracy is 98.05000305175781\n",
            "validation loss is 2.486764986038208 and accuracy is 92.69999694824219\n",
            "training loss is 0.14280312153697014 and accuracy is 99.0\n",
            "validation loss is 2.206189339876175 and accuracy is 93.69999694824219\n",
            "training loss is 0.1506187287569046 and accuracy is 99.1500015258789\n",
            "validation loss is 4.360122102737427 and accuracy is 89.80000305175781\n",
            "training loss is 0.18769294348359108 and accuracy is 99.0999984741211\n",
            "validation loss is 3.4204036502838133 and accuracy is 92.0999984741211\n",
            "training loss is 0.18930424973368645 and accuracy is 98.80000305175781\n",
            "validation loss is 2.410358730554581 and accuracy is 94.0999984741211\n",
            "training loss is 0.41966452638804913 and accuracy is 98.5999984741211\n",
            "validation loss is 3.495550952911377 and accuracy is 92.5999984741211\n",
            "training loss is 3.281648509025574 and accuracy is 92.19999694824219\n",
            "validation loss is 26.786444604873658 and accuracy is 71.69999694824219\n",
            "training loss is 2.4463400683403016 and accuracy is 95.44999694824219\n",
            "validation loss is 9.382518408060074 and accuracy is 87.0\n",
            "training loss is 0.6428585233688354 and accuracy is 98.44999694824219\n",
            "validation loss is 4.462522254943847 and accuracy is 92.69999694824219\n",
            "training loss is 0.514903860092163 and accuracy is 98.5999984741211\n",
            "validation loss is 7.560316072463989 and accuracy is 89.4000015258789\n",
            "training loss is 0.37412307476997375 and accuracy is 98.8499984741211\n",
            "validation loss is 5.949710369110107 and accuracy is 91.0\n",
            "training loss is 0.3814333792626858 and accuracy is 99.0\n",
            "validation loss is 7.308120919942856 and accuracy is 90.30000305175781\n",
            "training loss is 0.1834564666748047 and accuracy is 99.4000015258789\n",
            "validation loss is 4.447201454162598 and accuracy is 93.0999984741211\n",
            "training loss is 0.14572190701961518 and accuracy is 99.5999984741211\n",
            "validation loss is 4.081622842311859 and accuracy is 94.0999984741211\n",
            "training loss is 0.07142540282011033 and accuracy is 99.80000305175781\n",
            "validation loss is 7.896438519477845 and accuracy is 91.0999984741211\n",
            "training loss is 0.178768674492836 and accuracy is 99.5\n",
            "validation loss is 3.2633543281555175 and accuracy is 94.19999694824219\n"
          ],
          "name": "stdout"
        }
      ]
    },
    {
      "cell_type": "code",
      "metadata": {
        "id": "R6SbFNg5-t57",
        "colab_type": "code",
        "colab": {}
      },
      "source": [
        "matrix_2_2=valid_acc"
      ],
      "execution_count": 0,
      "outputs": []
    },
    {
      "cell_type": "code",
      "metadata": {
        "id": "1Yt6JTHA1tbR",
        "colab_type": "code",
        "colab": {
          "base_uri": "https://localhost:8080/",
          "height": 283
        },
        "outputId": "6acd516f-785b-429d-8f10-617af2e76671"
      },
      "source": [
        "import matplotlib.pyplot as plt\n",
        "plt.plot(range(1,20),matrix_1_1,'b',label='dropout=0.2 + lr=0.0001')\n",
        "plt.plot(range(1,20),matrix_1_2,'r',label='dropout=0.2 + lr=0.01')\n",
        "\n",
        "plt.plot(range(1,20),matrix_2_1,'--b',label='dropout=0.5 + lr=0.0001')\n",
        "plt.plot(range(1,20),matrix_2_2,'--r',label='dropout=0.5 + lr=0.01')\n",
        "\n",
        "plt.legend()"
      ],
      "execution_count": 59,
      "outputs": [
        {
          "output_type": "execute_result",
          "data": {
            "text/plain": [
              "<matplotlib.legend.Legend at 0x7f7059b28438>"
            ]
          },
          "metadata": {
            "tags": []
          },
          "execution_count": 59
        },
        {
          "output_type": "display_data",
          "data": {
            "image/png": "[encoded data removed]",
            "text/plain": [
              "<Figure size 432x288 with 1 Axes>"
            ]
          },
          "metadata": {
            "tags": []
          }
        }
      ]
    }
  ]
}